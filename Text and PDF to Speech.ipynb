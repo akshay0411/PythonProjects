{
 "cells": [
  {
   "cell_type": "code",
   "execution_count": null,
   "metadata": {},
   "outputs": [],
   "source": [
    "#sample of text to speech\n",
    "\n",
    "import pyttsx3 \n",
    "audio = pyttsx3.init()\n",
    "audio.say(\"Hello World!, How much you like it?\")\n",
    "audio.runAndWait()"
   ]
  },
  {
   "cell_type": "markdown",
   "metadata": {},
   "source": [
    "### To change speech voice"
   ]
  },
  {
   "cell_type": "code",
   "execution_count": null,
   "metadata": {},
   "outputs": [],
   "source": [
    "#to change voice, changing index of voices[] 1 for female and 0 for male\n",
    "\n",
    "voices = audio.getProperty('voices')\n",
    "audio.setProperty('voice', voices[1].id)\n",
    "\n",
    "audio.say(\"Hello World!, How are you?\")\n",
    "audio.runAndWait()"
   ]
  },
  {
   "cell_type": "code",
   "execution_count": null,
   "metadata": {},
   "outputs": [],
   "source": [
    "#to want store audio file\n",
    "audio.save_to_file(\"Hello World!\", 'test.mp3')\n",
    "audio.runAndWait()"
   ]
  },
  {
   "cell_type": "markdown",
   "metadata": {},
   "source": [
    "### To change Voice rate or volume"
   ]
  },
  {
   "cell_type": "code",
   "execution_count": null,
   "metadata": {},
   "outputs": [],
   "source": [
    "\"\"\" RATE Of Voice\"\"\"\n",
    "rate = audio.getProperty('rate')          # getting details of current speaking rate\n",
    "print (rate)                              # printing current voice rate\n",
    "audio.setProperty('rate', 125)            # setting up new voice rate\n",
    "\n",
    "\n",
    "\"\"\"VOLUME of Audio\"\"\"\n",
    "volume = audio.getProperty('volume')      # getting to know current volume level (min=0 and max=1)\n",
    "print (volume)                            # printing current volume level\n",
    "audio.setProperty('volume',1.0)           # setting up volume level  between 0 and 1\n",
    "\n",
    "audio.say(\"Hello World!, speech rate is \" +str(rate))\n",
    "audio.runAndWait()     "
   ]
  },
  {
   "cell_type": "markdown",
   "metadata": {},
   "source": [
    "### PDF to Speech"
   ]
  },
  {
   "cell_type": "code",
   "execution_count": null,
   "metadata": {},
   "outputs": [],
   "source": [
    "import pyttsx3                               #import Python TextToSpeech package\n",
    "import PyPDF2                                #import Python PDF reader package\n",
    "pdf_file = open('oop.pdf','rb')              #load pdf file \n",
    "pdfReader = PyPDF2.PdfFileReader(pdf_file)   #read pdf by reader package\n",
    "pages = pdfReader.numPages                   #get number of pages for page referance\n",
    "print(\"Total pages : {}\" .format(pages))                                 \n",
    "speaker = pyttsx3.init()                     #activate speech from pdf , speaker is variable\n",
    "for i in range(6,pages):                     #creat loop to get speech for page range\n",
    "    page = pdfReader.getPage(i)              #give page which one we want to listen\n",
    "    text = page.extractText()                #extract text in speech\n",
    "    speaker.say(text)                        #say audio variable to speack text\n",
    "    speaker.runAndWait()                     #run audio"
   ]
  }
 ],
 "metadata": {
  "kernelspec": {
   "display_name": "Python 3",
   "language": "python",
   "name": "python3"
  },
  "language_info": {
   "codemirror_mode": {
    "name": "ipython",
    "version": 3
   },
   "file_extension": ".py",
   "mimetype": "text/x-python",
   "name": "python",
   "nbconvert_exporter": "python",
   "pygments_lexer": "ipython3",
   "version": "3.7.9"
  }
 },
 "nbformat": 4,
 "nbformat_minor": 4
}
